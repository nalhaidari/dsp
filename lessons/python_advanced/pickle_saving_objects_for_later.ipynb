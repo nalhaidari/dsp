{
 "cells": [
  {
   "cell_type": "code",
   "execution_count": 1,
   "metadata": {},
   "outputs": [
    {
     "name": "stdout",
     "output_type": "stream",
     "text": [
      "Python Version: 3.6.4 |Anaconda, Inc.| (default, Jan 16 2018, 10:22:32) [MSC v.1900 64 bit (AMD64)] \n",
      "\n"
     ]
    }
   ],
   "source": [
    "import sys\n",
    "print(\"Python Version:\", sys.version, '\\n')"
   ]
  },
  {
   "cell_type": "markdown",
   "metadata": {},
   "source": [
    "# Pickle: Saving Objects for Later"
   ]
  },
  {
   "cell_type": "markdown",
   "metadata": {},
   "source": [
    "Often in data science, we'll create some model or some version of our data and want to use it later. We have many options - we can save the coefficients, or save the data to csv, or...\n",
    "\n",
    "Actually, we don't have that many options. \n",
    "\n",
    "One way to overcome that is to save the python object to a file as a serialized object. That means we convert the entire object to a bunch of bytes, save those bytes into a file, and then have the ability to unpack those bytes back into their original format later. \n",
    "\n",
    "This is done by a module called `pickle`. Let's see it in action."
   ]
  },
  {
   "cell_type": "code",
   "execution_count": 18,
   "metadata": {},
   "outputs": [],
   "source": [
    "import pickle\n",
    "import random\n",
    "\n",
    "lots_of_noise = {\n",
    "    'CA': [random.randint(0,65) for _ in range(100)],\n",
    "    'IL': [random.randint(0,65) for _ in range(50)],\n",
    "    'NY': [random.randint(0,65) for _ in range(90)],\n",
    "    'WA': [random.randint(0,65) for _ in range(33)]\n",
    "}"
   ]
  },
  {
   "cell_type": "code",
   "execution_count": 19,
   "metadata": {},
   "outputs": [
    {
     "name": "stdout",
     "output_type": "stream",
     "text": [
      "{'CA': [39, 3, 58, 45, 9, 52, 49, 11, 0, 61, 64, 60, 7, 7, 60, 1, 0, 8, 50, 7, 0, 54, 58, 9, 17, 35, 21, 65, 34, 32, 52, 49, 47, 27, 9, 28, 1, 58, 11, 25, 34, 50, 24, 45, 32, 0, 4, 3, 2, 16, 42, 59, 60, 29, 25, 1, 1, 49, 32, 45, 3, 20, 24, 27, 49, 58, 9, 48, 25, 9, 17, 7, 50, 45, 30, 26, 11, 57, 49, 54, 15, 11, 29, 31, 20, 26, 42, 43, 57, 27, 65, 33, 56, 25, 27, 2, 44, 47, 62, 54], 'IL': [54, 23, 51, 44, 45, 34, 31, 13, 65, 1, 2, 54, 25, 52, 13, 32, 61, 30, 48, 57, 37, 27, 17, 1, 39, 22, 24, 62, 0, 45, 58, 39, 38, 35, 11, 61, 27, 24, 13, 20, 1, 34, 26, 42, 21, 27, 17, 14, 57, 49], 'NY': [25, 3, 2, 15, 40, 53, 1, 53, 5, 23, 57, 1, 15, 46, 18, 18, 22, 34, 61, 35, 22, 2, 28, 30, 46, 58, 44, 33, 50, 38, 54, 22, 2, 22, 1, 65, 18, 36, 57, 65, 11, 60, 47, 23, 49, 52, 9, 15, 27, 9, 62, 55, 57, 55, 19, 24, 46, 37, 8, 65, 0, 29, 4, 15, 23, 17, 52, 39, 22, 29, 48, 64, 58, 65, 28, 20, 2, 16, 41, 28, 41, 17, 4, 40, 12, 53, 47, 20, 29, 7], 'WA': [62, 54, 44, 16, 24, 2, 15, 24, 65, 32, 52, 10, 43, 25, 48, 25, 23, 5, 50, 22, 48, 10, 60, 13, 56, 15, 1, 19, 27, 3, 12, 27, 64]}\n"
     ]
    }
   ],
   "source": [
    "print(lots_of_noise)"
   ]
  },
  {
   "cell_type": "code",
   "execution_count": 20,
   "metadata": {},
   "outputs": [
    {
     "name": "stdout",
     "output_type": "stream",
     "text": [
      "Variable        Type              Data/Info\n",
      "-------------------------------------------\n",
      "lots_of_noise   dict              n=4\n",
      "new_df          DataFrame                  Yay  specific   <...>n\\n[100 rows x 4 columns]\n",
      "new_noise       dict              n=4\n",
      "np              module            <module 'numpy' from 'C:\\<...>ges\\\\numpy\\\\__init__.py'>\n",
      "pd              module            <module 'pandas' from 'C:<...>es\\\\pandas\\\\__init__.py'>\n",
      "pickle          module            <module 'pickle' from 'C:<...>aconda3\\\\lib\\\\pickle.py'>\n",
      "random          module            <module 'random' from 'C:<...>aconda3\\\\lib\\\\random.py'>\n",
      "read_file       BufferedReader    <_io.BufferedReader name='my_dataframe.pickle'>\n",
      "sys             module            <module 'sys' (built-in)>\n",
      "to_write        BufferedWriter    <_io.BufferedWriter name='my_dataframe.pickle'>\n"
     ]
    }
   ],
   "source": [
    "whos"
   ]
  },
  {
   "cell_type": "markdown",
   "metadata": {},
   "source": [
    "We can see in this `whos` command that the object `lots_of_noise` exists and is a `dict` with 4 keys. Nice. Now let's look at our file system and verify that there isn't a file called `noise.pickle`."
   ]
  },
  {
   "cell_type": "code",
   "execution_count": 21,
   "metadata": {},
   "outputs": [
    {
     "name": "stderr",
     "output_type": "stream",
     "text": [
      "'ls' is not recognized as an internal or external command,\n",
      "operable program or batch file.\n"
     ]
    }
   ],
   "source": [
    "!ls"
   ]
  },
  {
   "cell_type": "markdown",
   "metadata": {},
   "source": [
    "Okay, now we're ready to create a file and write the bytes to it. To do this with `pickle`, we use python's read-write streamer `open` and create a writable-binary (`wb`) file. We'll then use `pickle.dump` to put an object into that file as a string of bytes."
   ]
  },
  {
   "cell_type": "code",
   "execution_count": 22,
   "metadata": {},
   "outputs": [],
   "source": [
    "with open('noise.pickle', 'wb') as to_write:\n",
    "    pickle.dump(lots_of_noise, to_write)"
   ]
  },
  {
   "cell_type": "code",
   "execution_count": 23,
   "metadata": {},
   "outputs": [
    {
     "name": "stderr",
     "output_type": "stream",
     "text": [
      "'ls' is not recognized as an internal or external command,\n",
      "operable program or batch file.\n"
     ]
    }
   ],
   "source": [
    "!ls"
   ]
  },
  {
   "cell_type": "markdown",
   "metadata": {},
   "source": [
    "Now let's delete `lots_of_noise` and prove to ourselves it doesn't exist in Python's memory anymore."
   ]
  },
  {
   "cell_type": "code",
   "execution_count": 24,
   "metadata": {},
   "outputs": [],
   "source": [
    "del lots_of_noise"
   ]
  },
  {
   "cell_type": "code",
   "execution_count": 25,
   "metadata": {},
   "outputs": [
    {
     "name": "stdout",
     "output_type": "stream",
     "text": [
      "Variable    Type              Data/Info\n",
      "---------------------------------------\n",
      "new_df      DataFrame                  Yay  specific   <...>n\\n[100 rows x 4 columns]\n",
      "new_noise   dict              n=4\n",
      "np          module            <module 'numpy' from 'C:\\<...>ges\\\\numpy\\\\__init__.py'>\n",
      "pd          module            <module 'pandas' from 'C:<...>es\\\\pandas\\\\__init__.py'>\n",
      "pickle      module            <module 'pickle' from 'C:<...>aconda3\\\\lib\\\\pickle.py'>\n",
      "random      module            <module 'random' from 'C:<...>aconda3\\\\lib\\\\random.py'>\n",
      "read_file   BufferedReader    <_io.BufferedReader name='my_dataframe.pickle'>\n",
      "sys         module            <module 'sys' (built-in)>\n",
      "to_write    BufferedWriter    <_io.BufferedWriter name='noise.pickle'>\n"
     ]
    }
   ],
   "source": [
    "whos"
   ]
  },
  {
   "cell_type": "code",
   "execution_count": 26,
   "metadata": {},
   "outputs": [
    {
     "ename": "NameError",
     "evalue": "name 'lots_of_noise' is not defined",
     "output_type": "error",
     "traceback": [
      "\u001b[1;31m---------------------------------------------------------------------------\u001b[0m",
      "\u001b[1;31mNameError\u001b[0m                                 Traceback (most recent call last)",
      "\u001b[1;32m<ipython-input-26-69f22b4d5ca8>\u001b[0m in \u001b[0;36m<module>\u001b[1;34m()\u001b[0m\n\u001b[1;32m----> 1\u001b[1;33m \u001b[0mprint\u001b[0m\u001b[1;33m(\u001b[0m\u001b[0mlots_of_noise\u001b[0m\u001b[1;33m)\u001b[0m\u001b[1;33m\u001b[0m\u001b[0m\n\u001b[0m",
      "\u001b[1;31mNameError\u001b[0m: name 'lots_of_noise' is not defined"
     ]
    }
   ],
   "source": [
    "print(lots_of_noise)"
   ]
  },
  {
   "cell_type": "markdown",
   "metadata": {},
   "source": [
    "Lovely. It's dead forever. Or is it?\n",
    "\n",
    "Let's open that `noise.pickle` file with read-binary (`rb`) mode. Then we'll ask pickle to retrieve the file with `pickle.load` and store it back in a variable."
   ]
  },
  {
   "cell_type": "code",
   "execution_count": 27,
   "metadata": {},
   "outputs": [],
   "source": [
    "with open('noise.pickle','rb') as read_file:\n",
    "    new_noise = pickle.load(read_file)"
   ]
  },
  {
   "cell_type": "code",
   "execution_count": 28,
   "metadata": {},
   "outputs": [
    {
     "name": "stdout",
     "output_type": "stream",
     "text": [
      "{'CA': [39, 3, 58, 45, 9, 52, 49, 11, 0, 61, 64, 60, 7, 7, 60, 1, 0, 8, 50, 7, 0, 54, 58, 9, 17, 35, 21, 65, 34, 32, 52, 49, 47, 27, 9, 28, 1, 58, 11, 25, 34, 50, 24, 45, 32, 0, 4, 3, 2, 16, 42, 59, 60, 29, 25, 1, 1, 49, 32, 45, 3, 20, 24, 27, 49, 58, 9, 48, 25, 9, 17, 7, 50, 45, 30, 26, 11, 57, 49, 54, 15, 11, 29, 31, 20, 26, 42, 43, 57, 27, 65, 33, 56, 25, 27, 2, 44, 47, 62, 54], 'IL': [54, 23, 51, 44, 45, 34, 31, 13, 65, 1, 2, 54, 25, 52, 13, 32, 61, 30, 48, 57, 37, 27, 17, 1, 39, 22, 24, 62, 0, 45, 58, 39, 38, 35, 11, 61, 27, 24, 13, 20, 1, 34, 26, 42, 21, 27, 17, 14, 57, 49], 'NY': [25, 3, 2, 15, 40, 53, 1, 53, 5, 23, 57, 1, 15, 46, 18, 18, 22, 34, 61, 35, 22, 2, 28, 30, 46, 58, 44, 33, 50, 38, 54, 22, 2, 22, 1, 65, 18, 36, 57, 65, 11, 60, 47, 23, 49, 52, 9, 15, 27, 9, 62, 55, 57, 55, 19, 24, 46, 37, 8, 65, 0, 29, 4, 15, 23, 17, 52, 39, 22, 29, 48, 64, 58, 65, 28, 20, 2, 16, 41, 28, 41, 17, 4, 40, 12, 53, 47, 20, 29, 7], 'WA': [62, 54, 44, 16, 24, 2, 15, 24, 65, 32, 52, 10, 43, 25, 48, 25, 23, 5, 50, 22, 48, 10, 60, 13, 56, 15, 1, 19, 27, 3, 12, 27, 64]}\n"
     ]
    }
   ],
   "source": [
    "print(new_noise)"
   ]
  },
  {
   "cell_type": "code",
   "execution_count": 29,
   "metadata": {},
   "outputs": [
    {
     "name": "stdout",
     "output_type": "stream",
     "text": [
      "Variable    Type              Data/Info\n",
      "---------------------------------------\n",
      "new_df      DataFrame                  Yay  specific   <...>n\\n[100 rows x 4 columns]\n",
      "new_noise   dict              n=4\n",
      "np          module            <module 'numpy' from 'C:\\<...>ges\\\\numpy\\\\__init__.py'>\n",
      "pd          module            <module 'pandas' from 'C:<...>es\\\\pandas\\\\__init__.py'>\n",
      "pickle      module            <module 'pickle' from 'C:<...>aconda3\\\\lib\\\\pickle.py'>\n",
      "random      module            <module 'random' from 'C:<...>aconda3\\\\lib\\\\random.py'>\n",
      "read_file   BufferedReader    <_io.BufferedReader name='noise.pickle'>\n",
      "sys         module            <module 'sys' (built-in)>\n",
      "to_write    BufferedWriter    <_io.BufferedWriter name='noise.pickle'>\n"
     ]
    }
   ],
   "source": [
    "whos"
   ]
  },
  {
   "cell_type": "markdown",
   "metadata": {},
   "source": [
    "Random noise lives! We retrieved the entire structure from file. Nice."
   ]
  },
  {
   "cell_type": "markdown",
   "metadata": {},
   "source": [
    "### Okay, but I don't use dictionaries... I use pandas."
   ]
  },
  {
   "cell_type": "code",
   "execution_count": 30,
   "metadata": {},
   "outputs": [
    {
     "data": {
      "text/html": [
       "<div>\n",
       "<style scoped>\n",
       "    .dataframe tbody tr th:only-of-type {\n",
       "        vertical-align: middle;\n",
       "    }\n",
       "\n",
       "    .dataframe tbody tr th {\n",
       "        vertical-align: top;\n",
       "    }\n",
       "\n",
       "    .dataframe thead th {\n",
       "        text-align: right;\n",
       "    }\n",
       "</style>\n",
       "<table border=\"1\" class=\"dataframe\">\n",
       "  <thead>\n",
       "    <tr style=\"text-align: right;\">\n",
       "      <th></th>\n",
       "      <th>Yay</th>\n",
       "      <th>specific</th>\n",
       "      <th>column</th>\n",
       "      <th>names</th>\n",
       "    </tr>\n",
       "  </thead>\n",
       "  <tbody>\n",
       "    <tr>\n",
       "      <th>0</th>\n",
       "      <td>5.317666</td>\n",
       "      <td>5.444702</td>\n",
       "      <td>-8.891737</td>\n",
       "      <td>3.023171</td>\n",
       "    </tr>\n",
       "    <tr>\n",
       "      <th>1</th>\n",
       "      <td>-0.636437</td>\n",
       "      <td>5.616445</td>\n",
       "      <td>-0.661637</td>\n",
       "      <td>0.564658</td>\n",
       "    </tr>\n",
       "    <tr>\n",
       "      <th>2</th>\n",
       "      <td>-5.965611</td>\n",
       "      <td>2.867965</td>\n",
       "      <td>-1.497030</td>\n",
       "      <td>-8.059612</td>\n",
       "    </tr>\n",
       "    <tr>\n",
       "      <th>3</th>\n",
       "      <td>6.278128</td>\n",
       "      <td>-8.310775</td>\n",
       "      <td>-7.580887</td>\n",
       "      <td>-1.063721</td>\n",
       "    </tr>\n",
       "    <tr>\n",
       "      <th>4</th>\n",
       "      <td>8.262572</td>\n",
       "      <td>5.266746</td>\n",
       "      <td>-9.287950</td>\n",
       "      <td>3.975452</td>\n",
       "    </tr>\n",
       "  </tbody>\n",
       "</table>\n",
       "</div>"
      ],
      "text/plain": [
       "        Yay  specific    column     names\n",
       "0  5.317666  5.444702 -8.891737  3.023171\n",
       "1 -0.636437  5.616445 -0.661637  0.564658\n",
       "2 -5.965611  2.867965 -1.497030 -8.059612\n",
       "3  6.278128 -8.310775 -7.580887 -1.063721\n",
       "4  8.262572  5.266746 -9.287950  3.975452"
      ]
     },
     "execution_count": 30,
     "metadata": {},
     "output_type": "execute_result"
    }
   ],
   "source": [
    "import pandas as pd\n",
    "import numpy as np\n",
    "\n",
    "df = pd.DataFrame(np.random.uniform(-10,10, size=(100,4)), columns=['Yay','specific','column','names'])\n",
    "df.head(5)"
   ]
  },
  {
   "cell_type": "code",
   "execution_count": 31,
   "metadata": {},
   "outputs": [],
   "source": [
    "with open('my_dataframe.pickle', 'wb') as to_write:\n",
    "    pickle.dump(df, to_write)"
   ]
  },
  {
   "cell_type": "code",
   "execution_count": 32,
   "metadata": {},
   "outputs": [
    {
     "ename": "NameError",
     "evalue": "name 'df' is not defined",
     "output_type": "error",
     "traceback": [
      "\u001b[1;31m---------------------------------------------------------------------------\u001b[0m",
      "\u001b[1;31mNameError\u001b[0m                                 Traceback (most recent call last)",
      "\u001b[1;32m<ipython-input-32-3975f6306adf>\u001b[0m in \u001b[0;36m<module>\u001b[1;34m()\u001b[0m\n\u001b[0;32m      1\u001b[0m \u001b[1;32mdel\u001b[0m \u001b[0mdf\u001b[0m\u001b[1;33m\u001b[0m\u001b[0m\n\u001b[0;32m      2\u001b[0m \u001b[1;33m\u001b[0m\u001b[0m\n\u001b[1;32m----> 3\u001b[1;33m \u001b[0mdf\u001b[0m\u001b[1;33m.\u001b[0m\u001b[0mhead\u001b[0m\u001b[1;33m(\u001b[0m\u001b[1;36m5\u001b[0m\u001b[1;33m)\u001b[0m\u001b[1;33m\u001b[0m\u001b[0m\n\u001b[0m",
      "\u001b[1;31mNameError\u001b[0m: name 'df' is not defined"
     ]
    }
   ],
   "source": [
    "del df\n",
    "\n",
    "df.head(5)"
   ]
  },
  {
   "cell_type": "code",
   "execution_count": 33,
   "metadata": {},
   "outputs": [
    {
     "data": {
      "text/html": [
       "<div>\n",
       "<style scoped>\n",
       "    .dataframe tbody tr th:only-of-type {\n",
       "        vertical-align: middle;\n",
       "    }\n",
       "\n",
       "    .dataframe tbody tr th {\n",
       "        vertical-align: top;\n",
       "    }\n",
       "\n",
       "    .dataframe thead th {\n",
       "        text-align: right;\n",
       "    }\n",
       "</style>\n",
       "<table border=\"1\" class=\"dataframe\">\n",
       "  <thead>\n",
       "    <tr style=\"text-align: right;\">\n",
       "      <th></th>\n",
       "      <th>Yay</th>\n",
       "      <th>specific</th>\n",
       "      <th>column</th>\n",
       "      <th>names</th>\n",
       "    </tr>\n",
       "  </thead>\n",
       "  <tbody>\n",
       "    <tr>\n",
       "      <th>0</th>\n",
       "      <td>5.317666</td>\n",
       "      <td>5.444702</td>\n",
       "      <td>-8.891737</td>\n",
       "      <td>3.023171</td>\n",
       "    </tr>\n",
       "    <tr>\n",
       "      <th>1</th>\n",
       "      <td>-0.636437</td>\n",
       "      <td>5.616445</td>\n",
       "      <td>-0.661637</td>\n",
       "      <td>0.564658</td>\n",
       "    </tr>\n",
       "    <tr>\n",
       "      <th>2</th>\n",
       "      <td>-5.965611</td>\n",
       "      <td>2.867965</td>\n",
       "      <td>-1.497030</td>\n",
       "      <td>-8.059612</td>\n",
       "    </tr>\n",
       "    <tr>\n",
       "      <th>3</th>\n",
       "      <td>6.278128</td>\n",
       "      <td>-8.310775</td>\n",
       "      <td>-7.580887</td>\n",
       "      <td>-1.063721</td>\n",
       "    </tr>\n",
       "    <tr>\n",
       "      <th>4</th>\n",
       "      <td>8.262572</td>\n",
       "      <td>5.266746</td>\n",
       "      <td>-9.287950</td>\n",
       "      <td>3.975452</td>\n",
       "    </tr>\n",
       "  </tbody>\n",
       "</table>\n",
       "</div>"
      ],
      "text/plain": [
       "        Yay  specific    column     names\n",
       "0  5.317666  5.444702 -8.891737  3.023171\n",
       "1 -0.636437  5.616445 -0.661637  0.564658\n",
       "2 -5.965611  2.867965 -1.497030 -8.059612\n",
       "3  6.278128 -8.310775 -7.580887 -1.063721\n",
       "4  8.262572  5.266746 -9.287950  3.975452"
      ]
     },
     "execution_count": 33,
     "metadata": {},
     "output_type": "execute_result"
    }
   ],
   "source": [
    "with open('my_dataframe.pickle','rb') as read_file:\n",
    "    new_df = pickle.load(read_file)\n",
    "    \n",
    "new_df.head(5)"
   ]
  },
  {
   "cell_type": "markdown",
   "metadata": {},
   "source": [
    "Pickle is a great tool. One recommended way of using it is to make it an end point of every step in your process. Example:\n",
    "\n",
    "* I got my data! Nice. Pickle it and stop your \"getting the data\" notebook.\n",
    "* Load your data from pickle. Clean it. Save your clean data to a new pickle.\n",
    "* Load your cleaned_data pickle. Do analysis and visualize it.\n",
    "\n",
    "This can provide natural \"pick-up-where-I-left-off-but-before-I-broke-my-data\" points. It's a great way to control the flow of your data.\n",
    "\n",
    "#### Resources\n",
    "\n",
    "https://docs.python.org/3.7/library/pickle.html"
   ]
  },
  {
   "cell_type": "code",
   "execution_count": null,
   "metadata": {},
   "outputs": [],
   "source": []
  }
 ],
 "metadata": {
  "kernelspec": {
   "display_name": "Python 3",
   "language": "python",
   "name": "python3"
  },
  "language_info": {
   "codemirror_mode": {
    "name": "ipython",
    "version": 3
   },
   "file_extension": ".py",
   "mimetype": "text/x-python",
   "name": "python",
   "nbconvert_exporter": "python",
   "pygments_lexer": "ipython3",
   "version": "3.6.4"
  }
 },
 "nbformat": 4,
 "nbformat_minor": 1
}
